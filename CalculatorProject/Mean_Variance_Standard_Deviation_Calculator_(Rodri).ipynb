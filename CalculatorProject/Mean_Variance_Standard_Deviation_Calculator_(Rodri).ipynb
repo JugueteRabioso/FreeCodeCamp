{
  "nbformat": 4,
  "nbformat_minor": 0,
  "metadata": {
    "colab": {
      "provenance": [],
      "authorship_tag": "ABX9TyP+SXLP0EmVOePtyb4AX0W3",
      "include_colab_link": true
    },
    "kernelspec": {
      "name": "python3",
      "display_name": "Python 3"
    },
    "language_info": {
      "name": "python"
    }
  },
  "cells": [
    {
      "cell_type": "markdown",
      "metadata": {
        "id": "view-in-github",
        "colab_type": "text"
      },
      "source": [
        "<a href=\"https://colab.research.google.com/github/JugueteRabioso/FreeCodeCamp/blob/main/Mean_Variance_Standard_Deviation_Calculator_(Rodri).ipynb\" target=\"_parent\"><img src=\"https://colab.research.google.com/assets/colab-badge.svg\" alt=\"Open In Colab\"/></a>"
      ]
    },
    {
      "cell_type": "markdown",
      "source": [
        "Importing libraries"
      ],
      "metadata": {
        "id": "tVIiQoUCU37P"
      }
    },
    {
      "cell_type": "code",
      "execution_count": 1,
      "metadata": {
        "id": "j2XPmsiKUnbi"
      },
      "outputs": [],
      "source": [
        "import numpy as np\n",
        "import pandas as pd"
      ]
    },
    {
      "cell_type": "markdown",
      "source": [
        "Code"
      ],
      "metadata": {
        "id": "8mC-W6q0RRs-"
      }
    },
    {
      "cell_type": "code",
      "source": [
        "def calculate(lista):\n",
        "\n",
        "    # Check the number of values from my input\n",
        "    if len(lista) != 9:\n",
        "        raise ValueError(\"List must contain nine numbers.\")\n",
        "\n",
        "    # Convert the list to a 3x3 NumPy array\n",
        "    matrix = np.array(lista).reshape(3, 3)\n",
        "\n",
        "    # Calculate mean, variance, standard deviation, max, min, and sum along both axes and flattened\n",
        "    result = {\n",
        "        'mean': [matrix.mean(axis=0).tolist(), matrix.mean(axis=1).tolist(), matrix.mean().item()],\n",
        "        'variance': [matrix.var(axis=0).tolist(), matrix.var(axis=1).tolist(), matrix.var().item()],\n",
        "        'standard deviation': [matrix.std(axis=0).tolist(), matrix.std(axis=1).tolist(), matrix.std().item()],\n",
        "        'max': [matrix.max(axis=0).tolist(), matrix.max(axis=1).tolist(), matrix.max().item()],\n",
        "        'min': [matrix.min(axis=0).tolist(), matrix.min(axis=1).tolist(), matrix.min().item()],\n",
        "        'sum': [matrix.sum(axis=0).tolist(), matrix.sum(axis=1).tolist(), matrix.sum().item()]\n",
        "    }\n",
        "\n",
        "    return result"
      ],
      "metadata": {
        "id": "3UvdFRLhaQJ2"
      },
      "execution_count": 6,
      "outputs": []
    },
    {
      "cell_type": "code",
      "source": [
        "lista = [0, 1, 2, 3, 4, 5, 6, 7, 8]\n",
        "result_dict = calculate(lista)\n",
        "print(result_dict)"
      ],
      "metadata": {
        "id": "i1XahCjTwlPx"
      },
      "execution_count": null,
      "outputs": []
    }
  ]
}
